{
 "cells": [
  {
   "cell_type": "markdown",
   "id": "ae1fe38a",
   "metadata": {},
   "source": [
    "### 📥 1. Importing Libraries and Loading Data"
   ]
  },
  {
   "cell_type": "code",
   "execution_count": null,
   "id": "a571349a",
   "metadata": {},
   "outputs": [],
   "source": [
    "import numpy as np\n",
    "import pandas as pd\n",
    "import matplotlib.pyplot as plt\n",
    "import seaborn as sns"
   ]
  },
  {
   "cell_type": "code",
   "execution_count": 2,
   "id": "e89f7341",
   "metadata": {},
   "outputs": [
    {
     "data": {
      "text/html": [
       "<div>\n",
       "<style scoped>\n",
       "    .dataframe tbody tr th:only-of-type {\n",
       "        vertical-align: middle;\n",
       "    }\n",
       "\n",
       "    .dataframe tbody tr th {\n",
       "        vertical-align: top;\n",
       "    }\n",
       "\n",
       "    .dataframe thead th {\n",
       "        text-align: right;\n",
       "    }\n",
       "</style>\n",
       "<table border=\"1\" class=\"dataframe\">\n",
       "  <thead>\n",
       "    <tr style=\"text-align: right;\">\n",
       "      <th></th>\n",
       "      <th>Row ID</th>\n",
       "      <th>Order ID</th>\n",
       "      <th>Order Date</th>\n",
       "      <th>Ship Date</th>\n",
       "      <th>Ship Mode</th>\n",
       "      <th>Customer ID</th>\n",
       "      <th>Customer Name</th>\n",
       "      <th>Segment</th>\n",
       "      <th>Country</th>\n",
       "      <th>City</th>\n",
       "      <th>...</th>\n",
       "      <th>Postal Code</th>\n",
       "      <th>Region</th>\n",
       "      <th>Product ID</th>\n",
       "      <th>Category</th>\n",
       "      <th>Sub-Category</th>\n",
       "      <th>Product Name</th>\n",
       "      <th>Sales</th>\n",
       "      <th>Quantity</th>\n",
       "      <th>Discount</th>\n",
       "      <th>Profit</th>\n",
       "    </tr>\n",
       "  </thead>\n",
       "  <tbody>\n",
       "    <tr>\n",
       "      <th>0</th>\n",
       "      <td>1</td>\n",
       "      <td>CA-2013-152156</td>\n",
       "      <td>2013-11-09</td>\n",
       "      <td>2013-11-12</td>\n",
       "      <td>Second Class</td>\n",
       "      <td>CG-12520</td>\n",
       "      <td>Claire Gute</td>\n",
       "      <td>Consumer</td>\n",
       "      <td>United States</td>\n",
       "      <td>Henderson</td>\n",
       "      <td>...</td>\n",
       "      <td>42420</td>\n",
       "      <td>South</td>\n",
       "      <td>FUR-BO-10001798</td>\n",
       "      <td>Furniture</td>\n",
       "      <td>Bookcases</td>\n",
       "      <td>Bush Somerset Collection Bookcase</td>\n",
       "      <td>261.960</td>\n",
       "      <td>2</td>\n",
       "      <td>0.0</td>\n",
       "      <td>41.9136</td>\n",
       "    </tr>\n",
       "    <tr>\n",
       "      <th>1</th>\n",
       "      <td>2</td>\n",
       "      <td>CA-2013-152156</td>\n",
       "      <td>2013-11-09</td>\n",
       "      <td>2013-11-12</td>\n",
       "      <td>Second Class</td>\n",
       "      <td>CG-12520</td>\n",
       "      <td>Claire Gute</td>\n",
       "      <td>Consumer</td>\n",
       "      <td>United States</td>\n",
       "      <td>Henderson</td>\n",
       "      <td>...</td>\n",
       "      <td>42420</td>\n",
       "      <td>South</td>\n",
       "      <td>FUR-CH-10000454</td>\n",
       "      <td>Furniture</td>\n",
       "      <td>Chairs</td>\n",
       "      <td>Hon Deluxe Fabric Upholstered Stacking Chairs,...</td>\n",
       "      <td>731.940</td>\n",
       "      <td>3</td>\n",
       "      <td>0.0</td>\n",
       "      <td>219.5820</td>\n",
       "    </tr>\n",
       "    <tr>\n",
       "      <th>2</th>\n",
       "      <td>3</td>\n",
       "      <td>CA-2013-138688</td>\n",
       "      <td>2013-06-13</td>\n",
       "      <td>2013-06-17</td>\n",
       "      <td>Second Class</td>\n",
       "      <td>DV-13045</td>\n",
       "      <td>Darrin Van Huff</td>\n",
       "      <td>Corporate</td>\n",
       "      <td>United States</td>\n",
       "      <td>Los Angeles</td>\n",
       "      <td>...</td>\n",
       "      <td>90036</td>\n",
       "      <td>West</td>\n",
       "      <td>OFF-LA-10000240</td>\n",
       "      <td>Office Supplies</td>\n",
       "      <td>Labels</td>\n",
       "      <td>Self-Adhesive Address Labels for Typewriters b...</td>\n",
       "      <td>14.620</td>\n",
       "      <td>2</td>\n",
       "      <td>0.0</td>\n",
       "      <td>6.8714</td>\n",
       "    </tr>\n",
       "    <tr>\n",
       "      <th>3</th>\n",
       "      <td>5</td>\n",
       "      <td>US-2012-108966</td>\n",
       "      <td>2012-10-11</td>\n",
       "      <td>2012-10-18</td>\n",
       "      <td>Standard Class</td>\n",
       "      <td>SO-20335</td>\n",
       "      <td>Sean O'Donnell</td>\n",
       "      <td>Consumer</td>\n",
       "      <td>United States</td>\n",
       "      <td>Fort Lauderdale</td>\n",
       "      <td>...</td>\n",
       "      <td>33311</td>\n",
       "      <td>South</td>\n",
       "      <td>OFF-ST-10000760</td>\n",
       "      <td>Office Supplies</td>\n",
       "      <td>Storage</td>\n",
       "      <td>Eldon Fold 'N Roll Cart System</td>\n",
       "      <td>22.368</td>\n",
       "      <td>2</td>\n",
       "      <td>0.2</td>\n",
       "      <td>2.5164</td>\n",
       "    </tr>\n",
       "    <tr>\n",
       "      <th>4</th>\n",
       "      <td>6</td>\n",
       "      <td>CA-2011-115812</td>\n",
       "      <td>2011-06-09</td>\n",
       "      <td>2011-06-14</td>\n",
       "      <td>Standard Class</td>\n",
       "      <td>BH-11710</td>\n",
       "      <td>Brosina Hoffman</td>\n",
       "      <td>Consumer</td>\n",
       "      <td>United States</td>\n",
       "      <td>Los Angeles</td>\n",
       "      <td>...</td>\n",
       "      <td>90032</td>\n",
       "      <td>West</td>\n",
       "      <td>FUR-FU-10001487</td>\n",
       "      <td>Furniture</td>\n",
       "      <td>Furnishings</td>\n",
       "      <td>Eldon Expressions Wood and Plastic Desk Access...</td>\n",
       "      <td>48.860</td>\n",
       "      <td>7</td>\n",
       "      <td>0.0</td>\n",
       "      <td>14.1694</td>\n",
       "    </tr>\n",
       "  </tbody>\n",
       "</table>\n",
       "<p>5 rows × 21 columns</p>\n",
       "</div>"
      ],
      "text/plain": [
       "   Row ID        Order ID Order Date  Ship Date       Ship Mode Customer ID  \\\n",
       "0       1  CA-2013-152156 2013-11-09 2013-11-12    Second Class    CG-12520   \n",
       "1       2  CA-2013-152156 2013-11-09 2013-11-12    Second Class    CG-12520   \n",
       "2       3  CA-2013-138688 2013-06-13 2013-06-17    Second Class    DV-13045   \n",
       "3       5  US-2012-108966 2012-10-11 2012-10-18  Standard Class    SO-20335   \n",
       "4       6  CA-2011-115812 2011-06-09 2011-06-14  Standard Class    BH-11710   \n",
       "\n",
       "     Customer Name    Segment        Country             City  ...  \\\n",
       "0      Claire Gute   Consumer  United States        Henderson  ...   \n",
       "1      Claire Gute   Consumer  United States        Henderson  ...   \n",
       "2  Darrin Van Huff  Corporate  United States      Los Angeles  ...   \n",
       "3   Sean O'Donnell   Consumer  United States  Fort Lauderdale  ...   \n",
       "4  Brosina Hoffman   Consumer  United States      Los Angeles  ...   \n",
       "\n",
       "  Postal Code  Region       Product ID         Category Sub-Category  \\\n",
       "0       42420   South  FUR-BO-10001798        Furniture    Bookcases   \n",
       "1       42420   South  FUR-CH-10000454        Furniture       Chairs   \n",
       "2       90036    West  OFF-LA-10000240  Office Supplies       Labels   \n",
       "3       33311   South  OFF-ST-10000760  Office Supplies      Storage   \n",
       "4       90032    West  FUR-FU-10001487        Furniture  Furnishings   \n",
       "\n",
       "                                        Product Name    Sales  Quantity  \\\n",
       "0                  Bush Somerset Collection Bookcase  261.960         2   \n",
       "1  Hon Deluxe Fabric Upholstered Stacking Chairs,...  731.940         3   \n",
       "2  Self-Adhesive Address Labels for Typewriters b...   14.620         2   \n",
       "3                     Eldon Fold 'N Roll Cart System   22.368         2   \n",
       "4  Eldon Expressions Wood and Plastic Desk Access...   48.860         7   \n",
       "\n",
       "   Discount    Profit  \n",
       "0       0.0   41.9136  \n",
       "1       0.0  219.5820  \n",
       "2       0.0    6.8714  \n",
       "3       0.2    2.5164  \n",
       "4       0.0   14.1694  \n",
       "\n",
       "[5 rows x 21 columns]"
      ]
     },
     "execution_count": 2,
     "metadata": {},
     "output_type": "execute_result"
    }
   ],
   "source": [
    "df = pd.read_excel(\"C:/Users/Manish/OneDrive/Desktop/IT Vedant/Exam FIle.xlsx\")\n",
    "df.head()"
   ]
  },
  {
   "cell_type": "code",
   "execution_count": 32,
   "id": "4cd7b14d",
   "metadata": {},
   "outputs": [
    {
     "name": "stdout",
     "output_type": "stream",
     "text": [
      "            Row ID   Postal Code         Sales     Quantity     Discount  \\\n",
      "count  8058.000000   8058.000000   8058.000000  8058.000000  8058.000000   \n",
      "mean   4967.272648  55016.047779    223.480623     3.794738     0.081044   \n",
      "std    2872.723630  33295.003380    600.340641     2.244696     0.098884   \n",
      "min       1.000000   1040.000000      0.990000     1.000000     0.000000   \n",
      "25%    2483.250000  21843.250000     17.940000     2.000000     0.000000   \n",
      "50%    4965.000000  53711.000000     50.965000     3.000000     0.000000   \n",
      "75%    7427.250000  90045.000000    191.976000     5.000000     0.200000   \n",
      "max    9994.000000  99301.000000  17499.950000    14.000000     0.400000   \n",
      "\n",
      "            Profit         Year  \n",
      "count  8058.000000  8058.000000  \n",
      "mean     54.917884  2012.725118  \n",
      "std     213.713980     1.123067  \n",
      "min       0.062800  2011.000000  \n",
      "25%       5.324550  2012.000000  \n",
      "50%      13.317600  2013.000000  \n",
      "75%      40.465550  2014.000000  \n",
      "max    8399.976000  2014.000000  \n"
     ]
    }
   ],
   "source": [
    "# Display basic information\n",
    "print(df.describe())"
   ]
  },
  {
   "cell_type": "code",
   "execution_count": 33,
   "id": "f8f3fbde",
   "metadata": {},
   "outputs": [
    {
     "name": "stdout",
     "output_type": "stream",
     "text": [
      "Row ID           0\n",
      "Order ID         0\n",
      "Order Date       0\n",
      "Ship Date        0\n",
      "Ship Mode        0\n",
      "Customer ID      0\n",
      "Customer Name    0\n",
      "Segment          0\n",
      "Country          0\n",
      "City             0\n",
      "State            0\n",
      "Postal Code      0\n",
      "Region           0\n",
      "Product ID       0\n",
      "Category         0\n",
      "Sub-Category     0\n",
      "Product Name     0\n",
      "Sales            0\n",
      "Quantity         0\n",
      "Discount         0\n",
      "Profit           0\n",
      "Year             0\n",
      "dtype: int64\n"
     ]
    }
   ],
   "source": [
    "#Checking for any missing value in dataset\n",
    "print(df.isnull().sum())"
   ]
  },
  {
   "cell_type": "code",
   "execution_count": 4,
   "id": "1f6896c4",
   "metadata": {},
   "outputs": [],
   "source": [
    "# Convert date columns to datetime format for better visualization\n",
    "\n",
    "df['Order Date'] = pd.to_datetime(df['Order Date'])\n",
    "df['Ship Date'] = pd.to_datetime(df['Ship Date'])"
   ]
  },
  {
   "cell_type": "code",
   "execution_count": 17,
   "id": "e11c9a0d",
   "metadata": {},
   "outputs": [
    {
     "name": "stdout",
     "output_type": "stream",
     "text": [
      "\n",
      "Sales and Profit by Category:\n",
      "\n",
      "                       Sales       Profit\n",
      "Category                                 \n",
      "Technology       716701.1480  184034.8663\n",
      "Office Supplies  618988.7490  179106.0593\n",
      "Furniture        465116.9615   79387.3818\n"
     ]
    }
   ],
   "source": [
    "# Sales and Profit Analysis by Category \n",
    "\n",
    "category_summary = df.groupby(['Category'])[['Sales', 'Profit']].sum().sort_values(by='Sales', ascending=False)\n",
    "print(\"\\nSales and Profit by Category:\\n\")\n",
    "print(category_summary)"
   ]
  },
  {
   "cell_type": "code",
   "execution_count": 19,
   "id": "3f260973",
   "metadata": {},
   "outputs": [
    {
     "name": "stdout",
     "output_type": "stream",
     "text": [
      "\n",
      "Sales and Profit by Category:\n",
      "\n",
      "                    Sales      Profit\n",
      "Sub-Category                         \n",
      "Phones        293993.8940  52046.3541\n",
      "Chairs        220870.1410  36471.0076\n",
      "Storage       177559.3380  27705.1302\n",
      "Binders       167272.1200  68732.2597\n",
      "Accessories   156396.8460  42867.2622\n",
      "Copiers       149528.0300  55617.8249\n",
      "Machines      116782.3780  33503.4251\n",
      "Appliances    104149.6270  26767.6466\n",
      "Tables        100983.3330  14686.6672\n",
      "Paper          78479.2060  34053.5693\n",
      "Furnishings    76896.5440  19550.0570\n",
      "Bookcases      66366.9435   8679.6500\n",
      "Supplies       32606.3620   1826.5224\n",
      "Art            27118.7920   6527.7870\n",
      "Envelopes      16476.4020   6964.1767\n",
      "Labels         12486.3120   5546.2540\n",
      "Fasteners       2840.5900    982.7134\n"
     ]
    }
   ],
   "source": [
    "# Sales and Profit Analysis by Sub-Category  \n",
    "\n",
    "sub_category_summary = df.groupby(['Sub-Category'])[['Sales', 'Profit']].sum().sort_values(by='Sales', ascending=False)\n",
    "print(\"\\nSales and Profit by Category:\\n\")\n",
    "print(sub_category_summary)"
   ]
  },
  {
   "cell_type": "code",
   "execution_count": 27,
   "id": "8202d9a8",
   "metadata": {},
   "outputs": [
    {
     "name": "stdout",
     "output_type": "stream",
     "text": [
      "\n",
      "Yearly Sales and Profit Trends:\n",
      "\n",
      "            Sales       Profit\n",
      "Year                          \n",
      "2011  351519.0540   81436.7458\n",
      "2012  374714.0035   94147.9946\n",
      "2013  495348.9405  119564.6453\n",
      "2014  579224.8605  147378.9217\n"
     ]
    }
   ],
   "source": [
    "# 4. Date-based Trend Analysis for Sales and Profit\n",
    "\n",
    "df['Year'] = df['Order Date'].dt.year\n",
    "trend = df.groupby('Year')[['Sales', 'Profit']].sum()\n",
    "print(\"\\nYearly Sales and Profit Trends:\\n\")\n",
    "print(trend)\n"
   ]
  },
  {
   "cell_type": "code",
   "execution_count": 23,
   "id": "55db606b",
   "metadata": {},
   "outputs": [
    {
     "name": "stdout",
     "output_type": "stream",
     "text": [
      "\n",
      "Sales and Profit by Region :\n",
      "\n",
      "               Sales       Profit\n",
      "Region                           \n",
      "Central  355822.9170   96021.2475\n",
      "East     509215.9260  141113.3875\n",
      "South    294021.3920   74254.2626\n",
      "West     641746.6235  131139.4098\n"
     ]
    }
   ],
   "source": [
    "# Regional wise Performance\n",
    "region_segment= df.groupby(['Region'])[['Sales', 'Profit']].sum()\n",
    "print(\"\\nSales and Profit by Region :\\n\")\n",
    "print(region_segment)\n"
   ]
  },
  {
   "cell_type": "code",
   "execution_count": 24,
   "id": "03e5339f",
   "metadata": {},
   "outputs": [
    {
     "name": "stdout",
     "output_type": "stream",
     "text": [
      "\n",
      "Sales and Profit by Segment:\n",
      "\n",
      "                   Sales       Profit\n",
      "Segment                              \n",
      "Consumer     895785.9910  219064.9204\n",
      "Corporate    568564.0255  136766.3416\n",
      "Home Office  336456.8420   86697.0454\n"
     ]
    }
   ],
   "source": [
    "# Segment-wise Performance\n",
    "segment= df.groupby(['Segment'])[['Sales', 'Profit']].sum()\n",
    "print(\"\\nSales and Profit by Segment:\\n\")\n",
    "print(segment)\n"
   ]
  },
  {
   "cell_type": "code",
   "execution_count": 31,
   "id": "6a205cfb",
   "metadata": {},
   "outputs": [
    {
     "data": {
      "image/png": "[encoded data removed]",
      "text/plain": [
       "<Figure size 864x432 with 1 Axes>"
      ]
     },
     "metadata": {
      "needs_background": "light"
     },
     "output_type": "display_data"
    }
   ],
   "source": [
    "# Sales by Sub-Category\n",
    "\n",
    "plt.figure(figsize=(12, 6))\n",
    "category_summary['Sales'].plot(kind='bar', color='green', label='Sales')\n",
    "plt.title('Sales by Sub-Category')\n",
    "plt.xlabel('Sub-Category')\n",
    "plt.ylabel('Sales')\n",
    "plt.xticks(rotation=90)\n",
    "plt.legend()\n",
    "plt.show()\n"
   ]
  },
  {
   "cell_type": "code",
   "execution_count": 25,
   "id": "1860e0bd",
   "metadata": {},
   "outputs": [
    {
     "data": {
      "image/png": "[encoded data removed]",
      "text/plain": [
       "<Figure size 720x432 with 1 Axes>"
      ]
     },
     "metadata": {
      "needs_background": "light"
     },
     "output_type": "display_data"
    }
   ],
   "source": [
    "# Impact of Discount on Profit\n",
    "\n",
    "plt.figure(figsize=(10, 6))\n",
    "sns.scatterplot(x='Discount', y='Profit', data=df)\n",
    "plt.title('Discount vs Profit')\n",
    "plt.xlabel('Discount')\n",
    "plt.ylabel('Profit')\n",
    "plt.show()"
   ]
  },
  {
   "cell_type": "code",
   "execution_count": 29,
   "id": "bf878f1c",
   "metadata": {},
   "outputs": [
    {
     "data": {
      "text/plain": [
       "<Figure size 720x432 with 0 Axes>"
      ]
     },
     "metadata": {},
     "output_type": "display_data"
    },
    {
     "data": {
      "image/png": "[encoded data removed]",
      "text/plain": [
       "<Figure size 432x288 with 1 Axes>"
      ]
     },
     "metadata": {
      "needs_background": "light"
     },
     "output_type": "display_data"
    }
   ],
   "source": [
    "# Yearly trends for sales and profit\n",
    "\n",
    "plt.figure(figsize=(10, 6))\n",
    "time_series.plot(kind='line', marker='o')\n",
    "plt.title('Yearly Sales and Profit Trends')\n",
    "plt.xlabel('Year')\n",
    "plt.ylabel('Values')\n",
    "plt.legend(['Sales', 'Profit'])\n",
    "plt.show()"
   ]
  },
  {
   "cell_type": "code",
   "execution_count": 11,
   "id": "a7925e07",
   "metadata": {},
   "outputs": [
    {
     "name": "stdout",
     "output_type": "stream",
     "text": [
      "\n",
      "Key Insights:\n",
      "\n",
      "1. Top categories/sub-categories by sales are:\n",
      "                                   Sales      Profit\n",
      "Category        Sub-Category                        \n",
      "Technology      Phones        293993.894  52046.3541\n",
      "Furniture       Chairs        220870.141  36471.0076\n",
      "Office Supplies Storage       177559.338  27705.1302\n",
      "                Binders       167272.120  68732.2597\n",
      "Technology      Accessories   156396.846  42867.2622\n",
      "\n",
      "2. Regions and segments with the highest performance are:\n",
      "Sales     318744.9720\n",
      "Profit     67345.9566\n",
      "Name: (West, Consumer), dtype: float64\n",
      "\n",
      "3. Discounts above a certain level tend to reduce profit.\n",
      "\n",
      "4. Sales and profit trends over the years:\n",
      "            Sales       Profit\n",
      "Year                          \n",
      "2011  351519.0540   81436.7458\n",
      "2012  374714.0035   94147.9946\n",
      "2013  495348.9405  119564.6453\n",
      "2014  579224.8605  147378.9217\n"
     ]
    }
   ],
   "source": [
    "# Summary: Provide key insights from the data\n",
    "\n",
    "print(\"1. Top categories/sub-categories by sales are:\")\n",
    "print(category_summary.head(5))\n",
    "\n",
    "print(\"\\n2. Regions and segments with the highest performance are:\")\n",
    "print(region_segment_summary.loc[region_segment_summary['Sales'].idxmax()])\n",
    "print(\"\\n3. Discounts above a certain level tend to reduce profit.\")\n",
    "print(\"\\n4. Sales and profit trends over the years:\")\n",
    "print(time_series)"
   ]
  },
  {
   "cell_type": "code",
   "execution_count": null,
   "id": "e37d2c43",
   "metadata": {},
   "outputs": [],
   "source": []
  }
 ],
 "metadata": {
  "kernelspec": {
   "display_name": "Python 3 (ipykernel)",
   "language": "python",
   "name": "python3"
  },
  "language_info": {
   "codemirror_mode": {
    "name": "ipython",
    "version": 3
   },
   "file_extension": ".py",
   "mimetype": "text/x-python",
   "name": "python",
   "nbconvert_exporter": "python",
   "pygments_lexer": "ipython3",
   "version": "3.9.12"
  }
 },
 "nbformat": 4,
 "nbformat_minor": 5
}
